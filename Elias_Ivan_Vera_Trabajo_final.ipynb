{
  "nbformat": 4,
  "nbformat_minor": 0,
  "metadata": {
    "colab": {
      "provenance": [],
      "include_colab_link": true
    },
    "kernelspec": {
      "name": "python3",
      "display_name": "Python 3"
    }
  },
  "cells": [
    {
      "cell_type": "markdown",
      "metadata": {
        "id": "view-in-github",
        "colab_type": "text"
      },
      "source": [
        "<a href=\"https://colab.research.google.com/github/eliasivanvera/MIAR_Algoritmos_Optimizacion/blob/main/Elias_Ivan_Vera_Trabajo_final.ipynb\" target=\"_parent\"><img src=\"https://colab.research.google.com/assets/colab-badge.svg\" alt=\"Open In Colab\"/></a>"
      ]
    },
    {
      "cell_type": "markdown",
      "metadata": {
        "id": "hVbXYX-RfPWh"
      },
      "source": [
        "# Algoritmos de optimización - Seminario<br>\n",
        "Nombre y Apellidos:  Elias Ivan Vera Narvaez  <br>\n",
        "Url: https://github.com/eliasivanvera/MIAR_Algoritmos_Optimizacion<br>\n",
        "Problema:\n",
        "> 1. Sesiones de doblaje <br>\n",
        "\n",
        "Se precisa coordinar el doblaje de una película. Los actores del doblaje deben coincidir en las tomas en las que sus personajes aparecen juntos en las diferentes tomas. Los actores de doblaje cobran todos la misma cantidad por cada día que deben desplazarse hasta el estudio de grabación independientemente del número de tomas que se graben. No es posible grabar más de 6 tomas por día. El objetivo es planificar las sesiones por día de manera que el gasto por los\n",
        "servicios de los actores de doblaje sea el menor posible.\n",
        "\n",
        "Los datos son:\n",
        "\n",
        "Número de actores: 10\n",
        "\n",
        "Número de tomas : 30\n",
        "\n",
        "Actores/Tomas : https://bit.ly/36D8IuK\n",
        "- 1 indica que el actor participa en la toma\n",
        "- 0 en caso contrario\n",
        "\n",
        "\n",
        ">\n",
        "<br>\n",
        "\n",
        "\n",
        "\n",
        "(*) La respuesta es obligatoria\n",
        "\n",
        "\n",
        "\n",
        "\n",
        "\n"
      ]
    },
    {
      "cell_type": "markdown",
      "metadata": {
        "id": "3_-exlrTgLd-"
      },
      "source": [
        "(*)¿Cuantas posibilidades hay sin tener en cuenta las restricciones?<br>\n",
        "\n",
        "\n",
        "\n",
        "¿Cuantas posibilidades hay teniendo en cuenta todas las restricciones.\n",
        "\n",
        "\n"
      ]
    },
    {
      "cell_type": "markdown",
      "metadata": {
        "id": "WfCUqJyKhPcw"
      },
      "source": [
        "Respuesta"
      ]
    },
    {
      "cell_type": "markdown",
      "source": [
        "(*)¿Cuantas posibilidades hay sin tener en cuenta las restricciones?<br>\n",
        ">>Considerando todas las combinaciones posibles de asignaciones de tomas a sesiones de grabación, el número de posibilidades sería extremadamente grande y se calcularía como el producto de todas las opciones para cada toma.\n",
        "\n",
        "Para cada una de las 30 tomas, tienes 10 opciones posibles de asignarla a cualquiera de los 10 actores (1 o 0 para cada actor).\n",
        "Las posibilidades sin restricciones, tendría 10 opciones para la primera toma, 10 opciones para la segunda toma, y así sucesivamente, lo que resultaría en un número extremadamente grande de combinaciones igual a 10^30\n",
        "\n",
        "¿Cuantas posibilidades hay teniendo en cuenta todas las restricciones.\n",
        "\n",
        ">>El número de posibilidades sería igual al número de formas en que se pueden particionar 30 elementos en grupos de hasta 6 elementos. Esto se puede calcular utilizando números combinatorios y se expresa como:\n",
        "\n",
        "C(30,6) * C(24,6) * C(18,6) * C(12,6) * C(6,6)\n",
        "\n",
        "Donde C(n, k) representa el número combinatorio, que se calcula como n! / (k! * (n - k)!), y n! representa el factorial de n.\n",
        "\n",
        "Calculando estos valores:\n",
        "\n",
        "C(30,6) = 593775\n",
        "C(24,6) = 134596\n",
        "C(18,6) = 18564\n",
        "C(12,6) = 924\n",
        "C(6,6) = 1\n",
        "\n",
        "Multiplicando estos valores juntos:\n",
        "\n",
        "593775 * 134596 * 18564 * 924 * 1 ≈ 2.3962076e+21\n",
        "\n",
        "Por lo tanto, hay aproximadamente 2.3962076 x 10^21, la importancia de utilizar algoritmos de optimización para encontrar una solución eficiente en lugar de explorar todas las combinaciones posibles.\n",
        "\n",
        "\n",
        "\n",
        "\n",
        "\n"
      ],
      "metadata": {
        "id": "fGi-ikHhi8U1"
      }
    },
    {
      "cell_type": "markdown",
      "metadata": {
        "id": "dzynfVJahHoY"
      },
      "source": [
        "Modelo para el espacio de soluciones<br>\n",
        "(*) ¿Cual es la estructura de datos que mejor se adapta al problema? Argumentalo.(Es posible que hayas elegido una al principio y veas la necesidad de cambiar, arguentalo)\n"
      ]
    },
    {
      "cell_type": "markdown",
      "metadata": {
        "id": "xFIJrOwKi2Ti"
      },
      "source": [
        "Respuesta"
      ]
    },
    {
      "cell_type": "markdown",
      "source": [
        "\n",
        "\n",
        "> La estrctura de tados que pense originalmente fue listas, pero me decante por dataframe ya que en el ejercicio propuesto tenemos que manejar los datos de los actores organizados en filas y columnas, os cuales vamos a manipular para poder ordenarlos.\n",
        "\n",
        "\n",
        "\n",
        "\n",
        "\n",
        "\n",
        "\n",
        "\n"
      ],
      "metadata": {
        "id": "eSOYwmhbVolW"
      }
    },
    {
      "cell_type": "markdown",
      "metadata": {
        "id": "7Z9U2W7bi-XS"
      },
      "source": [
        "Según el modelo para el espacio de soluciones<br>\n",
        "(*)¿Cual es la función objetivo?\n",
        "\n",
        "(*)¿Es un problema de maximización o minimización?"
      ]
    },
    {
      "cell_type": "markdown",
      "metadata": {
        "id": "hBalWLM7j1_d"
      },
      "source": [
        "Respuesta"
      ]
    },
    {
      "cell_type": "markdown",
      "source": [
        "\n",
        "\n",
        "\n",
        "\n",
        "> ¿Cual es la función objetivo?\n",
        ">> La función objetivo en este problema es minimizar el gasto total en servicios de actores de doblaje el cual esta relacionado con la cantidad de dias para que se realice este.\n",
        "\n",
        ">¿Es un problema de maximización o minimización?\n",
        ">> Es un problema de minimización siendo el objetivo minimizar el gasto en servicios de actores\n",
        "\n",
        "\n",
        "\n",
        "\n"
      ],
      "metadata": {
        "id": "1R3kG0SQYYh3"
      }
    },
    {
      "cell_type": "markdown",
      "metadata": {
        "id": "rlnTYgY1j6I2"
      },
      "source": [
        "Diseña un algoritmo para resolver el problema por fuerza bruta"
      ]
    },
    {
      "cell_type": "markdown",
      "metadata": {
        "id": "70rDgxYXkC8r"
      },
      "source": [
        "Respuesta"
      ]
    },
    {
      "cell_type": "code",
      "metadata": {
        "id": "CJb5sQ0qkENy"
      },
      "source": [],
      "execution_count": null,
      "outputs": []
    },
    {
      "cell_type": "markdown",
      "metadata": {
        "id": "tgrnsC2nkFa8"
      },
      "source": [
        "Calcula la complejidad del algoritmo por fuerza bruta"
      ]
    },
    {
      "cell_type": "markdown",
      "metadata": {
        "id": "9eUd3xwckP68"
      },
      "source": [
        "Respuesta"
      ]
    },
    {
      "cell_type": "code",
      "metadata": {
        "id": "rvZWwL-ckRST"
      },
      "source": [],
      "execution_count": null,
      "outputs": []
    },
    {
      "cell_type": "markdown",
      "metadata": {
        "id": "txbrmLmskReM"
      },
      "source": [
        "(*)Diseña un algoritmo que mejore la complejidad del algortimo por fuerza bruta. Argumenta porque crees que mejora el algoritmo por fuerza bruta"
      ]
    },
    {
      "cell_type": "markdown",
      "metadata": {
        "id": "hLrVwt5QkZPD"
      },
      "source": [
        "Respuesta"
      ]
    },
    {
      "cell_type": "markdown",
      "source": [
        "Abordare este tema por un Algoritmo de ordenacion burbuja conbinado con uno por insercion, donde la función bubble_sort que implemento el método de ordenación por burbuja para ordenar el DataFrame datos según la columna \"Suma\" en orden descendente, luego en cada iteración, se busca la fila con el mayor valor en la columna 'Suma', identifica elementos comunes con otras filas y toma decisiones sobre qué filas eliminar del DataFrame, seguidamente muestra los actores que asistieron en ese día y las tomas relacionadas."
      ],
      "metadata": {
        "id": "EIhjtbOPkex7"
      }
    },
    {
      "cell_type": "code",
      "metadata": {
        "id": "m1eyM21Vkabg",
        "colab": {
          "base_uri": "https://localhost:8080/"
        },
        "outputId": "c22a5f15-d425-4c32-de78-3c59a3564729"
      },
      "source": [
        "import pandas as pd\n",
        "import numpy as np\n",
        "\n",
        "# La lista de listas con los datos\n",
        "lista = [\n",
        "    [1, 1, 1, 1, 1, 0, 0, 0, 0, 0,1],\n",
        "    [0, 0, 1, 1, 1, 0, 0, 0, 0, 0,2],\n",
        "    [0, 1, 0, 0, 1, 0, 1, 0, 0, 0,3],\n",
        "    [1, 1, 0, 0, 0, 0, 1, 1, 0, 0,4],\n",
        "    [0, 1, 0, 1, 0, 0, 0, 1, 0, 0,5],\n",
        "    [1, 1, 0, 1, 1, 0, 0, 0, 0, 0,6],\n",
        "    [1, 1, 0, 1, 1, 0, 0, 0, 0, 0,7],\n",
        "    [1, 1, 0, 0, 0, 1, 0, 0, 0, 0,8],\n",
        "    [1, 1, 0, 1, 0, 0, 0, 0, 0, 0,9],\n",
        "    [1, 1, 0, 0, 0, 1, 0, 0, 1, 0,10],\n",
        "    [1, 1, 1, 0, 1, 0, 0, 1, 0, 0,11],\n",
        "    [1, 1, 1, 1, 0, 1, 0, 0, 0, 0,12],\n",
        "    [1, 0, 0, 1, 1, 0, 0, 0, 0, 0,13],\n",
        "    [1, 0, 1, 0, 0, 1, 0, 0, 0, 0,14],\n",
        "    [1, 1, 0, 0, 0, 0, 1, 0, 0, 0,15],\n",
        "    [0, 0, 0, 1, 0, 0, 0, 0, 0, 1,16],\n",
        "    [1, 0, 1, 0, 0, 0, 0, 0, 0, 0,17],\n",
        "    [0, 0, 1, 0, 0, 1, 0, 0, 0, 0,18],\n",
        "    [1, 0, 1, 0, 0, 0, 0, 0, 0, 0,19],\n",
        "    [1, 0, 1, 1, 1, 0, 0, 0, 0, 0,20],\n",
        "    [0, 0, 0, 0, 0, 1, 0, 1, 0, 0,21],\n",
        "    [1, 1, 1, 1, 0, 0, 0, 0, 0, 0,22],\n",
        "    [1, 0, 1, 0, 0, 0, 0, 0, 0, 0,23],\n",
        "    [0, 0, 1, 0, 0, 1, 0, 0, 0, 0,24],\n",
        "    [1, 1, 0, 1, 0, 0, 0, 0, 0, 1,25],\n",
        "    [1, 0, 1, 0, 1, 0, 0, 0, 1, 0,26],\n",
        "    [0, 0, 0, 1, 1, 0, 0, 0, 0, 0,27],\n",
        "    [1, 0, 0, 1, 0, 0, 0, 0, 0, 0,28],\n",
        "    [1, 0, 0, 0, 1, 1, 0, 0, 0, 0,29],\n",
        "    [1, 0, 0, 1, 0, 0, 0, 0, 0, 0,30]\n",
        "]\n",
        "\n",
        "# Los nombres de las columnas\n",
        "columnas = ['1', '2', '3', '4', '5',\n",
        "            '6', '7', '8', '9', '10', \"Toma\"]\n",
        "\n",
        "# Crear el DataFrame\n",
        "df = pd.DataFrame(lista, columns=columnas)\n",
        "\n",
        "df['Suma'] = df.iloc[:,:-1].sum(axis=1)\n",
        "\n",
        "data = df.loc[:, \"1\":\"10\"].replace(1, pd.Series(df.columns, df.columns))\n",
        "data = pd.concat([data, df[['Toma', 'Suma']]], axis=1)\n",
        "data[\"comunes\"] = 0\n",
        "\n",
        "# Función para ordenar el DataFrame por la columna \"Suma\" de mayor a menor\n",
        "def bubble_sort(df):\n",
        "    n = len(df)\n",
        "    for i in range(n):\n",
        "        for j in range(0, n-i-1):\n",
        "            if df.loc[j, \"Suma\"] < df.loc[j+1, \"Suma\"]:\n",
        "                df.loc[j], df.loc[j+1] = df.loc[j+1].copy(), df.loc[j].copy()\n",
        "\n",
        "# Ordenar el DataFrame por la columna \"Suma\" utilizando el método de burbuja\n",
        "bubble_sort(data)\n",
        "\n",
        "data[\"comunes\"] = 0\n",
        "\n",
        "def alg(data):\n",
        "    for j in range(len(data)):\n",
        "        max_actor = (data.loc[data[\"Suma\"] >= max(data[\"Suma\"])].index.tolist())\n",
        "        posicion = max_actor[0]\n",
        "        first_list = data.loc[posicion, \"1\":\"10\"].values.flatten().tolist()\n",
        "        primerdia = []\n",
        "        tomas = list()\n",
        "\n",
        "        for i in range(len(data) - 1):\n",
        "            second_list = data.loc[i, \"1\":\"10\"].values.flatten().tolist()\n",
        "            interseccion = (set(second_list).intersection(set(first_list)))\n",
        "            interseccion.remove(0)\n",
        "            not_intersecction = list(set(second_list) ^ set(first_list))\n",
        "\n",
        "            if interseccion != {0}:\n",
        "                data.loc[i, \"comunes\"] = len(interseccion)\n",
        "            else:\n",
        "                data.loc[i, \"comunes\"] = 0\n",
        "            if (set(second_list).issubset(set(first_list)) == True or (len(not_intersecction) <= 4)) and len(tomas) < 6:\n",
        "                primerdia = primerdia + not_intersecction\n",
        "                tomas = tomas + [data[\"Toma\"][i]]\n",
        "        Actores = list(np.unique((first_list + primerdia)))\n",
        "        Tomas = list(np.unique(tomas))\n",
        "        Actores.remove(\"0\")\n",
        "        print(\"\\nLos actores\",Actores,\"son los que acudieron el dia= (\", j+1,\")\")\n",
        "        print(\"Para realizar las tomas\", Tomas)\n",
        "        print(\"_________________________________________________________________________\")\n",
        "\n",
        "        index = data[data[\"Toma\"].isin(tomas)].index\n",
        "        data.drop(index, inplace=True)\n",
        "        data = data.reset_index()\n",
        "        data = data.loc[:, \"1\":\"Suma\"]\n",
        "\n",
        "        if len(data)==1:\n",
        "            break\n",
        "\n",
        "alg(data)"
      ],
      "execution_count": 1,
      "outputs": [
        {
          "output_type": "stream",
          "name": "stdout",
          "text": [
            "\n",
            "Los actores ['1', '2', '3', '4', '5', '6', '8'] son los que acudieron el dia= ( 1 )\n",
            "Para realizar las tomas [1, 6, 7, 11, 12, 20]\n",
            "_________________________________________________________________________\n",
            "\n",
            "Los actores ['1', '10', '2', '3', '4', '5', '6', '7', '8', '9'] son los que acudieron el dia= ( 2 )\n",
            "Para realizar las tomas [3, 4, 5, 10, 22, 25]\n",
            "_________________________________________________________________________\n",
            "\n",
            "Los actores ['1', '3', '4', '5', '6', '9'] son los que acudieron el dia= ( 3 )\n",
            "Para realizar las tomas [2, 13, 14, 17, 26, 29]\n",
            "_________________________________________________________________________\n",
            "\n",
            "Los actores ['1', '2', '3', '4', '6', '7', '8'] son los que acudieron el dia= ( 4 )\n",
            "Para realizar las tomas [8, 9, 15, 18, 19, 21]\n",
            "_________________________________________________________________________\n",
            "\n",
            "Los actores ['1', '10', '3', '4', '5', '6'] son los que acudieron el dia= ( 5 )\n",
            "Para realizar las tomas [16, 23, 24, 27, 28]\n",
            "_________________________________________________________________________\n"
          ]
        }
      ]
    },
    {
      "cell_type": "markdown",
      "metadata": {
        "id": "eGDB4K6uk1iN"
      },
      "source": [
        "(*)Calcula la complejidad del algoritmo"
      ]
    },
    {
      "cell_type": "markdown",
      "metadata": {
        "id": "NhpTh_BPk1ms"
      },
      "source": [
        "Respuesta"
      ]
    },
    {
      "cell_type": "markdown",
      "source": [
        "La complejidad de tiempo es la ordenación por burbuja y el algoritmo personalizado 'alg', ambos con una complejidad de O(n^2)"
      ],
      "metadata": {
        "id": "fv-s08xnmclX"
      }
    }
  ]
}