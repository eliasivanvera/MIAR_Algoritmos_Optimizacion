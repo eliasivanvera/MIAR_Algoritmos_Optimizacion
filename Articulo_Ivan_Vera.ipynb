{
  "nbformat": 4,
  "nbformat_minor": 0,
  "metadata": {
    "colab": {
      "provenance": [],
      "toc_visible": true,
      "authorship_tag": "ABX9TyOMtvViou6bzF6fKWbS2ehM",
      "include_colab_link": true
    },
    "kernelspec": {
      "name": "python3",
      "display_name": "Python 3"
    },
    "language_info": {
      "name": "python"
    }
  },
  "cells": [
    {
      "cell_type": "markdown",
      "metadata": {
        "id": "view-in-github",
        "colab_type": "text"
      },
      "source": [
        "<a href=\"https://colab.research.google.com/github/eliasivanvera/MIAR_Algoritmos_Optimizacion/blob/main/Articulo_Ivan_Vera.ipynb\" target=\"_parent\"><img src=\"https://colab.research.google.com/assets/colab-badge.svg\" alt=\"Open In Colab\"/></a>"
      ]
    },
    {
      "cell_type": "markdown",
      "source": [
        "# **Actividad de artículo científico **\n",
        "\n",
        "**Nombre:** Elias Ivan Vera Narvaez"
      ],
      "metadata": {
        "id": "YJaUi8bXLvv4"
      }
    },
    {
      "cell_type": "markdown",
      "source": [
        "En este artículo podemos ver la propuesta de un algoritmo voraz iterado para el problema de programación de flowshop, que es un problema de programación, en el que se debe procesar un conjunto de trabajos independientes en un conjunto de máquinas en un orden específico.\n",
        "\n",
        "\n",
        "\n",
        "\n",
        "\n",
        "El algoritmo utiliza una etapas de destrucción, en la que se eliminan algunos trabajos de la solución, y una etapa de construcción, en la que los trabajos eliminados se reinsertan utilizando una heurística de construcción conocida.\n",
        "\n",
        "\n",
        "\n",
        "\n",
        "\n",
        "Por lo que he visto este algoritmo es simple de implementar y ha demostrado ser altamente efectivo en comparación con los métodos más avanzados. Los autores también realizaron experimentos para ajustar los parámetros del algoritmo y descubrieron que el rendimiento del algoritmo es sólido con respecto a los valores de los parámetros. Coparando con otros algoritmos de buen rendimiento y demostró un rendimiento excelente, incluso cuando se comparó con métodos más complejos. En general, el algoritmo voraz iterado que proponen los autores en este articulo ofrece una solución simple pero poderosa."
      ],
      "metadata": {
        "id": "4IzduakuMV0J"
      }
    },
    {
      "cell_type": "markdown",
      "source": [
        "# Ventajas y desventajas\n",
        "## Ventajas\n",
        "\n",
        "El algoritmo voraz iterado propuesto simplifica el proceso de implementación y es altamente efectivo en comparación con los métodos más avanzados.\n",
        "\n",
        "Tiene la ventaja de no requerir conocimiento específico del problema, como el concepto de caminos críticos o mejoras de velocidad extensas utilizadas en otros algoritmos de alto rendimiento.\n",
        "\n",
        "Las fases de destrucción y construcción del algoritmo voraz iterado juegan un papel crucial en la generación de soluciones de alta calidad.\n",
        "\n",
        "## Posible desventaja\n",
        "\n",
        "La posibilidad de quedar atrapado en óptimos locales, la necesidad de ajustar parámetros para obtener un buen rendimiento, o la complejidad computacional.\n",
        "\n",
        "\n"
      ],
      "metadata": {
        "id": "T2svT9YUYlOg"
      }
    }
  ]
}